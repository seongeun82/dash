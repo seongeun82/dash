{
 "cells": [
  {
   "cell_type": "markdown",
   "metadata": {},
   "source": [
    "# Dash in 20 Minutes Tutorial "
   ]
  },
  {
   "cell_type": "markdown",
   "metadata": {},
   "source": [
    "- url\n",
    "    - https://dash.plotly.com/tutorial"
   ]
  },
  {
   "cell_type": "markdown",
   "metadata": {},
   "source": [
    "## 1. View app"
   ]
  },
  {
   "cell_type": "code",
   "execution_count": 1,
   "metadata": {},
   "outputs": [
    {
     "name": "stdout",
     "output_type": "stream",
     "text": [
      "Dash is running on http://127.0.0.1:8049/\n",
      "\n",
      " * Serving Flask app '__main__'\n",
      " * Debug mode: on\n"
     ]
    }
   ],
   "source": [
    "# Import packages\n",
    "from dash import Dash, html, dash_table, dcc, callback, Output, Input\n",
    "import pandas as pd\n",
    "import plotly.express as px\n",
    "\n",
    "# Incorporate data\n",
    "df = pd.read_csv('https://raw.githubusercontent.com/plotly/datasets/master/gapminder2007.csv')\n",
    "\n",
    "# Initialize the app\n",
    "app = Dash(__name__)\n",
    "\n",
    "# App layout\n",
    "app.layout = html.Div([\n",
    "    html.Div(children='My First App with Data, Graph, and Controls'),\n",
    "    html.Hr(),\n",
    "    dcc.RadioItems(options=['pop', 'lifeExp', 'gdpPercap'], value='lifeExp', id='my-final-radio-item-example'),\n",
    "    dash_table.DataTable(data=df.to_dict('records'), page_size=6),\n",
    "    dcc.Graph(figure={}, id='my-final-graph-example')\n",
    "])\n",
    "\n",
    "# Add controls to build the interaction\n",
    "@callback(\n",
    "    Input(component_id='my-final-radio-item-example', component_property='value'),\n",
    "    Output(component_id='my-final-graph-example', component_property='figure')    \n",
    ")\n",
    "def update_graph(col_chosen):\n",
    "    fig = px.histogram(df, x='continent', y=col_chosen, histfunc='avg')\n",
    "    return fig\n",
    "\n",
    "# Run the app\n",
    "if __name__ == '__main__':\n",
    "    app.run(debug=True, port=8049, use_reloader=False)\n"
   ]
  },
  {
   "cell_type": "code",
   "execution_count": 2,
   "metadata": {},
   "outputs": [],
   "source": [
    "## Hello World"
   ]
  },
  {
   "cell_type": "code",
   "execution_count": 3,
   "metadata": {},
   "outputs": [
    {
     "name": "stdout",
     "output_type": "stream",
     "text": [
      "Dash is running on http://127.0.0.1:8049/\n",
      "\n",
      "Dash is running on http://127.0.0.1:8049/\n",
      "\n",
      "Dash is running on http://127.0.0.1:8049/\n",
      "\n",
      " * Serving Flask app '__main__'\n",
      " * Debug mode: on\n"
     ]
    }
   ],
   "source": [
    "from dash import Dash, html\n",
    "\n",
    "app = Dash(__name__)\n",
    "\n",
    "app.layout = html.Div([\n",
    "    html.Div(children='Hello World')\n",
    "])\n",
    "\n",
    "if __name__ == '__main__':\n",
    "    # app.run(debug=True)\n",
    "    # IF you are running it from jupyter notebook or lab, you shold use following line \n",
    "    app.run(debug=True, port=8049, use_reloader=False)"
   ]
  },
  {
   "cell_type": "markdown",
   "metadata": {},
   "source": [
    "## Connecting to Data"
   ]
  },
  {
   "cell_type": "code",
   "execution_count": 4,
   "metadata": {},
   "outputs": [],
   "source": [
    "# Import packages\n",
    "from dash import Dash, html, dash_table\n",
    "import pandas as pd"
   ]
  },
  {
   "cell_type": "markdown",
   "metadata": {},
   "source": [
    "- **dash_table** 을 통해서 데이터 프레임 데이터를 쉽게 표현할 수 있음 \n",
    "- \"df.to_dict('**records**')\" 을 활용해서  리스트 안에 dict로 데이터를 구성 JSON에서 많이 사용함 "
   ]
  },
  {
   "cell_type": "code",
   "execution_count": 7,
   "metadata": {},
   "outputs": [
    {
     "data": {
      "text/html": [
       "<div>\n",
       "<style scoped>\n",
       "    .dataframe tbody tr th:only-of-type {\n",
       "        vertical-align: middle;\n",
       "    }\n",
       "\n",
       "    .dataframe tbody tr th {\n",
       "        vertical-align: top;\n",
       "    }\n",
       "\n",
       "    .dataframe thead th {\n",
       "        text-align: right;\n",
       "    }\n",
       "</style>\n",
       "<table border=\"1\" class=\"dataframe\">\n",
       "  <thead>\n",
       "    <tr style=\"text-align: right;\">\n",
       "      <th></th>\n",
       "      <th>country</th>\n",
       "      <th>pop</th>\n",
       "      <th>continent</th>\n",
       "      <th>lifeExp</th>\n",
       "      <th>gdpPercap</th>\n",
       "    </tr>\n",
       "  </thead>\n",
       "  <tbody>\n",
       "    <tr>\n",
       "      <th>0</th>\n",
       "      <td>Afghanistan</td>\n",
       "      <td>31889923.0</td>\n",
       "      <td>Asia</td>\n",
       "      <td>43.828</td>\n",
       "      <td>974.580338</td>\n",
       "    </tr>\n",
       "    <tr>\n",
       "      <th>1</th>\n",
       "      <td>Albania</td>\n",
       "      <td>3600523.0</td>\n",
       "      <td>Europe</td>\n",
       "      <td>76.423</td>\n",
       "      <td>5937.029526</td>\n",
       "    </tr>\n",
       "  </tbody>\n",
       "</table>\n",
       "</div>"
      ],
      "text/plain": [
       "       country         pop continent  lifeExp    gdpPercap\n",
       "0  Afghanistan  31889923.0      Asia   43.828   974.580338\n",
       "1      Albania   3600523.0    Europe   76.423  5937.029526"
      ]
     },
     "execution_count": 7,
     "metadata": {},
     "output_type": "execute_result"
    }
   ],
   "source": [
    "# Incorporate data\n",
    "df = pd.read_csv('https://raw.githubusercontent.com/plotly/datasets/master/gapminder2007.csv')\n",
    "df.head(2)"
   ]
  },
  {
   "cell_type": "code",
   "execution_count": 8,
   "metadata": {},
   "outputs": [],
   "source": [
    "# App layout\n",
    "app.layout = html.Div([\n",
    "    html.Div(children='My First App with Data'),\n",
    "    dash_table.DataTable(data=df.to_dict('records'), page_size=10)\n",
    "])"
   ]
  },
  {
   "cell_type": "markdown",
   "metadata": {},
   "source": [
    "## Visualizing Data "
   ]
  },
  {
   "cell_type": "markdown",
   "metadata": {},
   "source": [
    "- Visualizing 차트 리스트\n",
    "    - [인라인 링크](https://plotly.com/python/?_gl=1*1ykrn5b*_ga*MjEzODIxNTczOC4xNjg3OTE3ODA4*_ga_6G7EE0JNSC*MTY5MDQzOTQ3NS4xMS4wLjE2OTA0Mzk0NzUuNjAuMC4w)\n",
    "    - [차트 리스트](https://plotly.com/python/)\n"
   ]
  },
  {
   "cell_type": "code",
   "execution_count": 10,
   "metadata": {},
   "outputs": [
    {
     "name": "stdout",
     "output_type": "stream",
     "text": [
      "Dash is running on http://127.0.0.1:8049/\n",
      "\n",
      "Dash is running on http://127.0.0.1:8049/\n",
      "\n",
      " * Serving Flask app '__main__'\n",
      " * Debug mode: on\n"
     ]
    }
   ],
   "source": [
    "from dash import Dash, html, dash_table, dcc\n",
    "import pandas as pd\n",
    "import plotly.express as px\n",
    "\n",
    "# Incorporate data\n",
    "df = pd.read_csv('https://raw.githubusercontent.com/plotly/datasets/master/gapminder2007.csv')\n",
    "\n",
    "# Initialize the app\n",
    "app = Dash(__name__)\n",
    "\n",
    "# App layout\n",
    "app.layout = html.Div([\n",
    "    html.Div(children='My First App with Data and a Graph'),\n",
    "    dash_table.DataTable(data=df.to_dict('records'), page_size=10),\n",
    "    dcc.Graph(figure=px.histogram(df, x='continent', y='lifeExp', histfunc='avg'))\n",
    "])\n",
    "\n",
    "# Run the app\n",
    "if __name__ == '__main__':\n",
    "    app.run(debug=True,  port=8049, use_reloader=False)"
   ]
  },
  {
   "cell_type": "markdown",
   "metadata": {},
   "source": [
    "## Controls and Callbacks "
   ]
  },
  {
   "cell_type": "code",
   "execution_count": 11,
   "metadata": {},
   "outputs": [],
   "source": [
    "app.layout = html.Div([\n",
    "    html.Div(children='My First App with Data, Graph, and Controls'),\n",
    "    html.Hr(),\n",
    "    dcc.RadioItems(options=['pop', 'lifeExp', 'gdpPercap'], value='lifeExp', id='controls-and-radio-item'),\n",
    "    dash_table.DataTable(data=df.to_dict('records'), page_size=6),\n",
    "    dcc.Graph(figure={}, id='controls-and-graph')\n",
    "])\n",
    "## Add controls to build the interaction\n",
    "@callback(\n",
    "    Output(component_id='controls-and-graph', component_property='figure'),\n",
    "    Input(component_id='controls-and-radio-item', component_property='value')\n",
    ")\n",
    "\n",
    "def update_graph(col_chosen):\n",
    "    fig = px.histogram(df, x='continent', y=col_chosen, histfunc='avg')\n",
    "    return fig\n",
    "\n",
    "## 궁금한 것은 update_graph 를 선언은 했는데 사용하는 부분이 없는데 어떻게 자동으로 업데이트 되는가 하는 것이다.  "
   ]
  },
  {
   "attachments": {
    "image.png": {
     "image/png": "[encoded data removed]"
    }
   },
   "cell_type": "markdown",
   "metadata": {},
   "source": [
    "- dcc 활용하기 (Dash Core Components)\n",
    "    - dcc.Graph\n",
    "    - dcc.Dropdown \n",
    "    - dcc.Input\n",
    "    - ... \n",
    "\n",
    "- 여기에서는 dcc.RadioItems를 사용했음, RadioItems와 Graph가 주어지고 id, names 할당 됨 \n",
    "- callback 에서 id, names를 활용해서 사용하게 됨 \n",
    "\n",
    "- MD에서 이미지 넣기 \n",
    "- ![image.png](attachment:image.png)\n"
   ]
  },
  {
   "cell_type": "markdown",
   "metadata": {},
   "source": [
    "## Styling Your App  \n",
    "- 지금까지는 DCC 를 사용해서 단순한 Layout 만 구성을 하였음 \n",
    "- 나은 스타일을 위해 다음을 활용해서 고도화 할 수 있음 \n",
    "    - HTML and CSS \n",
    "    - Dash Design kit (DDK) -  enterprise  \n",
    "    - Dash Bootstrap Compoents  dbc  import dash_bootstrap_components as dbc\n",
    "    - Dash Mantine Components - Mantine( A fully featured React components library)  - This service has been suspended. "
   ]
  },
  {
   "cell_type": "markdown",
   "metadata": {},
   "source": [
    "### HTML and CSS \n",
    "\n",
    "### bootstrap"
   ]
  },
  {
   "cell_type": "code",
   "execution_count": null,
   "metadata": {},
   "outputs": [],
   "source": [
    "\n",
    "# Import packages\n",
    "from dash import Dash, html, dash_table, dcc, callback, Output, Input\n",
    "import pandas as pd\n",
    "import plotly.express as px\n",
    "import dash_bootstrap_components as dbc\n",
    "\n",
    "# Incorporate data\n",
    "df = pd.read_csv('https://raw.githubusercontent.com/plotly/datasets/master/gapminder2007.csv')\n",
    "\n",
    "# Initialize the app - incorporate a Dash Bootstrap theme\n",
    "external_stylesheets = [dbc.themes.CERULEAN]\n",
    "app = Dash(__name__, external_stylesheets=external_stylesheets)\n",
    "\n",
    "# App layout\n",
    "app.layout = dbc.Container([\n",
    "    dbc.Row([\n",
    "        html.Div('My First App with Data, Graph, and Controls', className=\"text-primary text-center fs-3\")\n",
    "    ]),\n",
    "\n",
    "    dbc.Row([\n",
    "        dbc.RadioItems(options=[{\"label\": x, \"value\": x} for x in ['pop', 'lifeExp', 'gdpPercap']],\n",
    "                       value='lifeExp',\n",
    "                       inline=True,\n",
    "                       id='radio-buttons-final')\n",
    "    ]),\n",
    "\n",
    "    dbc.Row([\n",
    "        dbc.Col([\n",
    "            dash_table.DataTable(data=df.to_dict('records'), page_size=12, style_table={'overflowX': 'auto'})\n",
    "        ], width=6),\n",
    "\n",
    "        dbc.Col([\n",
    "            dcc.Graph(figure={}, id='my-first-graph-final')\n",
    "        ], width=6),\n",
    "    ]),\n",
    "\n",
    "], fluid=True)\n",
    "\n",
    "# Add controls to build the interaction\n",
    "@callback(\n",
    "    Output(component_id='my-first-graph-final', component_property='figure'),\n",
    "    Input(component_id='radio-buttons-final', component_property='value')\n",
    ")\n",
    "def update_graph(col_chosen):\n",
    "    fig = px.histogram(df, x='continent', y=col_chosen, histfunc='avg')\n",
    "    return fig\n",
    "\n",
    "# Run the app\n",
    "if __name__ == '__main__':\n",
    "    app.run(debug=True)\n"
   ]
  }
 ],
 "metadata": {
  "kernelspec": {
   "display_name": "dash",
   "language": "python",
   "name": "python3"
  },
  "language_info": {
   "codemirror_mode": {
    "name": "ipython",
    "version": 3
   },
   "file_extension": ".py",
   "mimetype": "text/x-python",
   "name": "python",
   "nbconvert_exporter": "python",
   "pygments_lexer": "ipython3",
   "version": "3.10.10"
  },
  "orig_nbformat": 4
 },
 "nbformat": 4,
 "nbformat_minor": 2
}
